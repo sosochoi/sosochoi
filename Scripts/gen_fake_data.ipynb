{
 "cells": [
  {
   "cell_type": "code",
   "execution_count": 1,
   "id": "16031f81-123c-4be9-87ac-c49b51e4d72c",
   "metadata": {},
   "outputs": [
    {
     "name": "stdout",
     "output_type": "stream",
     "text": [
      "Shape of the DataFrame: (3, 5)\n"
     ]
    },
    {
     "data": {
      "text/html": [
       "<div>\n",
       "<style scoped>\n",
       "    .dataframe tbody tr th:only-of-type {\n",
       "        vertical-align: middle;\n",
       "    }\n",
       "\n",
       "    .dataframe tbody tr th {\n",
       "        vertical-align: top;\n",
       "    }\n",
       "\n",
       "    .dataframe thead th {\n",
       "        text-align: right;\n",
       "    }\n",
       "</style>\n",
       "<table border=\"1\" class=\"dataframe\">\n",
       "  <thead>\n",
       "    <tr style=\"text-align: right;\">\n",
       "      <th></th>\n",
       "      <th>Age Group</th>\n",
       "      <th>Average Salary ($)</th>\n",
       "      <th>Median Salary ($)</th>\n",
       "      <th>Salary Range ($)</th>\n",
       "      <th>Employment Rate (%)</th>\n",
       "    </tr>\n",
       "  </thead>\n",
       "  <tbody>\n",
       "    <tr>\n",
       "      <th>0</th>\n",
       "      <td>20-29</td>\n",
       "      <td>4416.0</td>\n",
       "      <td>4300</td>\n",
       "      <td>3500 - 5000</td>\n",
       "      <td>60</td>\n",
       "    </tr>\n",
       "    <tr>\n",
       "      <th>1</th>\n",
       "      <td>30-39</td>\n",
       "      <td>5311.0</td>\n",
       "      <td>5200</td>\n",
       "      <td>4500 - 6000</td>\n",
       "      <td>75</td>\n",
       "    </tr>\n",
       "    <tr>\n",
       "      <th>2</th>\n",
       "      <td>40-49</td>\n",
       "      <td>6786.0</td>\n",
       "      <td>6700</td>\n",
       "      <td>6000 - 8000</td>\n",
       "      <td>80</td>\n",
       "    </tr>\n",
       "  </tbody>\n",
       "</table>\n",
       "</div>"
      ],
      "text/plain": [
       "  Age Group  Average Salary ($)  Median Salary ($) Salary Range ($)  \\\n",
       "0     20-29              4416.0               4300      3500 - 5000   \n",
       "1     30-39              5311.0               5200      4500 - 6000   \n",
       "2     40-49              6786.0               6700      6000 - 8000   \n",
       "\n",
       "   Employment Rate (%)  \n",
       "0                   60  \n",
       "1                   75  \n",
       "2                   80  "
      ]
     },
     "execution_count": 1,
     "metadata": {},
     "output_type": "execute_result"
    }
   ],
   "source": [
    "# Import necessary libraries\n",
    "import pandas as pd\n",
    "\n",
    "# Define the age groups and their corresponding salary data\n",
    "age_groups = [\n",
    "    {\"Age Group\": \"20-29\", \"Average Salary ($)\": 4416.00, \"Median Salary ($)\": 4300, \"Salary Range ($)\": \"3500 - 5000\", \"Employment Rate (%)\": 60},\n",
    "    {\"Age Group\": \"30-39\", \"Average Salary ($)\": 5311.00, \"Median Salary ($)\": 5200, \"Salary Range ($)\": \"4500 - 6000\", \"Employment Rate (%)\": 75},\n",
    "    {\"Age Group\": \"40-49\", \"Average Salary ($)\": 6786.00, \"Median Salary ($)\": 6700, \"Salary Range ($)\": \"6000 - 8000\", \"Employment Rate (%)\": 80},\n",
    "]\n",
    "\n",
    "# Create a DataFrame from the age group data\n",
    "age_group_df = pd.DataFrame(age_groups)\n",
    "\n",
    "\n",
    "age_group_df.to_csv(\"../Data/2024_salarybyagegroup_data.csv\", index=False)\n",
    "\n",
    "# Display the shape of the DataFrame\n",
    "print(\"Shape of the DataFrame:\", age_group_df.shape)\n",
    "\n",
    "# Display the first few rows\n",
    "age_group_df"
   ]
  },
  {
   "cell_type": "code",
   "execution_count": null,
   "id": "6d6c77f4-db16-477d-9b8a-55781d6d0ef8",
   "metadata": {},
   "outputs": [],
   "source": []
  }
 ],
 "metadata": {
  "kernelspec": {
   "display_name": "Python 3 (ipykernel)",
   "language": "python",
   "name": "python3"
  },
  "language_info": {
   "codemirror_mode": {
    "name": "ipython",
    "version": 3
   },
   "file_extension": ".py",
   "mimetype": "text/x-python",
   "name": "python",
   "nbconvert_exporter": "python",
   "pygments_lexer": "ipython3",
   "version": "3.12.2"
  }
 },
 "nbformat": 4,
 "nbformat_minor": 5
}
